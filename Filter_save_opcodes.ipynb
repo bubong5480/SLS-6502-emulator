{
 "cells": [
  {
   "cell_type": "code",
   "execution_count": null,
   "metadata": {},
   "outputs": [],
   "source": [
    "names_opcodes = [\"ADC, 69\",\n",
    "\"ADC, 65\",\n",
    "\"ADC, 75\",\n",
    "\"ADC, 6d\",\n",
    "\"ADC, 7d\",\n",
    "\"ADC, 79\",\n",
    "\"ADC, 61\",\n",
    "\"ADC, 71\",\n",
    "\"AND, 29\",\n",
    "\"AND, 25\",\n",
    "\"AND, 35\",\n",
    "\"AND, 2d\",\n",
    "\"AND, 3d\",\n",
    "\"AND, 39\",\n",
    "\"AND, 21\",\n",
    "\"AND, 31\",\n",
    "\"ASL, 6\",\n",
    "\"ASL, 16\",\n",
    "\"ASL, e\",\n",
    "\"ASL, 1e\",\n",
    "\"BCC, 90\",\n",
    "\"BCS, b0\",\n",
    "\"BEQ, f0\",\n",
    "\"BIT, 24\",\n",
    "\"BIT, 2c\",\n",
    "\"BMI, 30\",\n",
    "\"BNE, d0\",\n",
    "\"BPL, 10\",\n",
    "\"BVC, 50\",\n",
    "\"BVS, 70\",\n",
    "\"CMP, c9\",\n",
    "\"CMP, c5\",\n",
    "\"CMP, d5\",\n",
    "\"CMP, cd\",\n",
    "\"CMP, dd\",\n",
    "\"CMP, d9\",\n",
    "\"CMP, c1\",\n",
    "\"CMP, d1\",\n",
    "\"CPX, e0\",\n",
    "\"CPX, e4\",\n",
    "\"CPX, ec\",\n",
    "\"CPY, c0\",\n",
    "\"CPY, c4\",\n",
    "\"CPY, cc\",\n",
    "\"DEC, c6\",\n",
    "\"DEC, d6\",\n",
    "\"DEC, ce\",\n",
    "\"DEC, de\",\n",
    "\"EOR, 49\",\n",
    "\"EOR, 45\",\n",
    "\"EOR, 55\",\n",
    "\"EOR, 4d\",\n",
    "\"EOR, 5d\",\n",
    "\"EOR, 59\",\n",
    "\"EOR, 41\",\n",
    "\"EOR, 51\",\n",
    "\"INC, e6\",\n",
    "\"INC, f6\",\n",
    "\"INC, ee\",\n",
    "\"INC, fe\",\n",
    "\"JMP, 4c\",\n",
    "\"JMP, 6c\",\n",
    "\"JSR, 20\",\n",
    "\"LDA, a9\",\n",
    "\"LDA, a5\",\n",
    "\"LDA, b5\",\n",
    "\"LDA, ad\",\n",
    "\"LDA, bd\",\n",
    "\"LDA, b9\",\n",
    "\"LDA, a1\",\n",
    "\"LDA, b1\",\n",
    "\"LDX, a2\",\n",
    "\"LDX, a6\",\n",
    "\"LDX, b6\",\n",
    "\"LDX, ae\",\n",
    "\"LDX, be\",\n",
    "\"LDY, a0\",\n",
    "\"LDY, a4\",\n",
    "\"LDY, b4\",\n",
    "\"LDY, ac\",\n",
    "\"LDY, bc\",\n",
    "\"LSR, 46\",\n",
    "\"LSR, 56\",\n",
    "\"LSR, 4e\",\n",
    "\"LSR, 5e\",\n",
    "\"ORA, 9\",\n",
    "\"ORA, 5\",\n",
    "\"ORA, 15\",\n",
    "\"ORA, d\",\n",
    "\"ORA, 1d\",\n",
    "\"ORA, 19\",\n",
    "\"ORA, 1\",\n",
    "\"ORA, 11\",\n",
    "\"ROL, 26\",\n",
    "\"ROL, 36\",\n",
    "\"ROL, 2e\",\n",
    "\"ROL, 3e\",\n",
    "\"ROR, 66\",\n",
    "\"ROR, 76\",\n",
    "\"ROR, 6e\",\n",
    "\"ROR, 7e\",\n",
    "\"SBC, e9\",\n",
    "\"SBC, e5\",\n",
    "\"SBC, f5\",\n",
    "\"SBC, ed\",\n",
    "\"SBC, fd\",\n",
    "\"SBC, f9\",\n",
    "\"SBC, e1\",\n",
    "\"SBC, f1\",\n",
    "\"STA, 85\",\n",
    "\"STA, 95\",\n",
    "\"STA, 8d\",\n",
    "\"STA, 9d\",\n",
    "\"STA, 99\",\n",
    "\"STA, 81\",\n",
    "\"STA, 91\",\n",
    "\"STX, 86\",\n",
    "\"STX, 96\",\n",
    "\"STX, 8e\",\n",
    "\"STY, 84\",\n",
    "\"STY, 94\",\n",
    "\"STY, 8c\",\n",
    "\"BRK, 0\",\n",
    "\"CLC, 18\",\n",
    "\"CLD, d8\",\n",
    "\"CLI, 58\",\n",
    "\"CLV, b8\",\n",
    "\"DEX, ca\",\n",
    "\"DEY, 88\",\n",
    "\"INX, e8\",\n",
    "\"INY, c8\",\n",
    "\"NOP, ea\",\n",
    "\"PHA, 48\",\n",
    "\"PHP, 8\",\n",
    "\"PLA, 68\",\n",
    "\"PLP, 28\",\n",
    "\"RTI, 40\",\n",
    "\"RTS, 60\",\n",
    "\"SEC, 38\",\n",
    "\"SED, f8\",\n",
    "\"SEI, 78\",\n",
    "\"TAX, aa\",\n",
    "\"TAY, a8\",\n",
    "\"TSX, ba\",\n",
    "\"TXA, 8a\",\n",
    "\"TXS, 9a\",\n",
    "\"TYA, 98\"]"
   ]
  },
  {
   "cell_type": "code",
   "execution_count": null,
   "metadata": {},
   "outputs": [],
   "source": [
    "opcode_names = [x.split(',') for x in names_opcodes]"
   ]
  },
  {
   "cell_type": "code",
   "execution_count": null,
   "metadata": {},
   "outputs": [],
   "source": [
    "names, opcodes = np.split(np.array(opcode_names, dtype = object), 2, axis = 1)"
   ]
  },
  {
   "cell_type": "code",
   "execution_count": null,
   "metadata": {},
   "outputs": [],
   "source": [
    "names = names.ravel().tolist()"
   ]
  },
  {
   "cell_type": "code",
   "execution_count": null,
   "metadata": {},
   "outputs": [],
   "source": [
    "names = ['void ' + i + \\\n",
    "         '(byte opcode, uint8_t* pc){byte ret = decode(opcode); OurComputer.accumulator += *(ret.pc + ret.arg)};' \\\n",
    "         for i in names]"
   ]
  },
  {
   "cell_type": "code",
   "execution_count": null,
   "metadata": {},
   "outputs": [],
   "source": [
    "names"
   ]
  },
  {
   "cell_type": "code",
   "execution_count": null,
   "metadata": {},
   "outputs": [],
   "source": [
    "\"\"\"struct ret {\n",
    "    byte pc;\n",
    "    byte arg;\n",
    "};\"\"\""
   ]
  },
  {
   "cell_type": "code",
   "execution_count": null,
   "metadata": {},
   "outputs": [],
   "source": [
    "'void ADC(byte opcode, uint8_t* pc){byte ret = decode(opcode); OurComputer.accumulator += *(ret.pc + ret.arg)};'\n",
    "'void AND(byte opcode, uint8_t* pc){byte ret = decode(opcode); OurComputer.accumulator &= *(ret.pc)};'\n",
    "'void ASL(byte opcode, uint8_t* pc){byte ret = decode(opcode); *ret.arg <<= 1};'\n",
    "\n",
    "'void BCC(byte opcode, uint8_t* pc){byte ret = decode(opcode); *ret.pc += *ret.arg};' \n",
    "\n",
    "'void BCS(byte opcode, uint8_t* pc){if carry == 1{BCC(opcode, pc)}};' # only if carry flag is set\n",
    "\n",
    "'void BEQ(byte opcode, uint8_t* pc){if zero == 1{BCC(opcode, pc)}};' # only when the zero flag is set\n",
    "\n",
    "'void BIT(byte opcode, uint8_t* pc){if zero == 1{BCC(opcode, pc)}};' # copies two of the bits into the N,V....\n",
    "\n",
    "'void BIT(byte opcode, uint8_t* pc){if N == 1{BCC(opcode, pc)}};'\n",
    "\n",
    "'void BME(byte opcode, uint8_t* pc){if zero == 0{BCC(opcode, pc)}};'\n",
    "\n",
    "'void BPL(byte opcode, uint8_t* pc){if N==0{BCC(opcode, pc)}};'\n",
    "\n",
    "'void BRK(byte opcode, uint8_t* pc){break; };' # some shit with the return address\n",
    "\n",
    "'void BVC(byte opcode, uint8_t* pc){if V==0{BCC(opcode, pc)}};'\n",
    "\n",
    "'void BVS(byte opcode, uint8_t* pc){if V==1{BCC(opcode, pc)}};'\n",
    "\n",
    "'void CLC(byte opcode, uint8_t* pc){carry = 0};'\n",
    "\n",
    "'void CLD(byte opcode, uint8_t* pc){D = 0};'\n",
    "\n",
    "'void CLI(byte opcode, uint8_t* pc){I = 0};'\n",
    "\n",
    "'void CLV(byte opcode, uint8_t* pc){V = 0};'\n",
    "\n",
    "'void CMD(byte opcode, uint8_t* pc){V = 0};' # skipping over and coming back\n",
    "\n",
    "'void CPX(byte opcode, uint8_t* pc){if zero == 0{BCC(opcode, pc)}};' # compare with register x and mem\n",
    "\n",
    "'void CPY(byte opcode, uint8_t* pc){if zero == 0{BCC(opcode, pc)}};' # compare with register y and mem\n",
    "\n",
    "'void DEC(byte opcode, uint8_t* pc){*pc -= 1};'\n",
    "\n",
    "'void DEX(byte opcode, uint8_t* pc){*pc -= x_reg};' # implied \n",
    "\n",
    "'void DEY(byte opcode, uint8_t* pc){*pc -= y_reg};' # implied\n",
    "\n",
    "'void EOR(byte opcode, uint8_t* pc){byte ret = decode(opcode); OurComputer.accumulator ^= *ret.arg};'\n",
    "\n",
    "'void INC(byte opcode, uint8_t* pc){byte ret = decode(opcode); *ret.pc += 1};' \n",
    "\n",
    "'void INX(byte opcode, uint8_t* pc){reg_x += 1};' # implied\n",
    "\n",
    "'void INY(byte opcode, uint8_t* pc){reg_y += 1};' # implied\n",
    "\n",
    "'void JMP(byte opcode, uint8_t* pc){byte ret = decode(opcode); ret.pc = ret.arg};' # sets pc to new address\n",
    "\n",
    "'void JSR(byte opcode, uint8_t* pc){byte ret = decode(opcode); ret.pc = ret.arg};' #saves returning address \n",
    "\n",
    "'void LDA(byte opcode, uint8_t* pc){OurComputer.accumulator = *pc};' #implied \n",
    "'void LDX(byte opcode, uint8_t* pc){reg_x = *pc};' #implied \n",
    "'void LDY(byte opcode, uint8_t* pc){reg_y = *pc};' #implied \n",
    "\n",
    "'void LSR(byte opcode, uint8_t* pc){byte ret = decode(opcode); *ret.arg >>= 1};'\n",
    "\n",
    "'void LSR(byte opcode, uint8_t* pc){pc +=1 };' #implied \n",
    "\n",
    "'void ORA(byte opcode, uint8_t* pc){OurComputer.accumulator ^= *pc};' #implied \n",
    "\n",
    "'void PHA(byte opcode, uint8_t* pc){OurComputer.accumulator ^= *pc};' #push accumulator on stack? \n",
    "\n",
    "'void PHP(byte opcode, uint8_t* pc){OurComputer.accumulator ^= *pc};' # stack \n",
    "\n",
    "'void PLA(byte opcode, uint8_t* pc){OurComputer.accumulator ^= *pc};' # stack\n",
    "\n",
    "'void PLP(byte opcode, uint8_t* pc){OurComputer.accumulator ^= *pc};' # stack\n",
    "\n",
    "'void ROL(byte opcode, uint8_t* pc){byte ret = decode(opcode); rotate *ret.arg by 1 bit left};' # rotate\n",
    "'void ROR(byte opcode, uint8_t* pc){byte ret = decode(opcode); rotate *ret.arg by 1 bit right};' # rotate\n",
    "\n",
    "'void RTI(byte opcode, uint8_t* pc){byte ret = decode(opcode); rotate *ret.arg by 1 bit right};' # ret from interrupt\n",
    "\n",
    "'void RTS(byte opcode, uint8_t* pc){byte ret = decode(opcode); rotate *ret.arg by 1 bit right};' # ret from subroutine\n",
    "\n",
    "'void SBC(byte opcode, uint8_t* pc){byte ret = decode(opcode); OurComputer.accumulator -= *(ret.pc + ret.arg)};' # ?\n",
    "\n",
    "'void SEC(byte opcode, uint8_t* pc){carry = 1};'\n",
    "\n",
    "'void SED(byte opcode, uint8_t* pc){D = 1};'\n",
    "\n",
    "'void SEI(byte opcode, uint8_t* pc){I = 1};'\n",
    "\n",
    "'void STA(byte opcode, uint8_t* pc){*pc = OurComputer.accumulator};'\n",
    "\n",
    "'void STX(byte opcode, uint8_t* pc){x_reg = *pc};'#implied\n",
    "\n",
    "'void STY(byte opcode, uint8_t* pc){y_reg = *pc};'#implied\n",
    "\n",
    "'void TAX(byte opcode, uint8_t* pc){x_reg = OurComputer.accumulator};' #implied\n",
    "'void TAY(byte opcode, uint8_t* pc){y_reg = OurComputer.accumulator};' #implied\n",
    "\n",
    "'void TSX(byte opcode, uint8_t* pc){x_reg = stack_pointer};' #implied\n",
    "'void TXA(byte opcode, uint8_t* pc){OurComputer.accumulator = x_reg};' #implied\n",
    "\n",
    "'void TXS(byte opcode, uint8_t* pc){stack_reg = x_reg};' #implied\n",
    "\n",
    "'void TYA(byte opcode, uint8_t* pc){OurComputer.accumulator = y_reg};' #implied\n",
    "\n"
   ]
  },
  {
   "cell_type": "code",
   "execution_count": null,
   "metadata": {},
   "outputs": [],
   "source": [
    "with open('void_functions.c', 'w') as f:\n",
    "    for function in names:\n",
    "        f.write(\"%s\" % function)"
   ]
  },
  {
   "cell_type": "code",
   "execution_count": null,
   "metadata": {},
   "outputs": [],
   "source": [
    "with open('opcode_names.txt', 'w') as f:\n",
    "    for item in list(names.flatten()):\n",
    "        f.write(\"%s\" % item)"
   ]
  },
  {
   "cell_type": "code",
   "execution_count": null,
   "metadata": {},
   "outputs": [],
   "source": [
    "opcode_values_hex = [int(x, 16) for x in opcode_values]"
   ]
  },
  {
   "cell_type": "code",
   "execution_count": null,
   "metadata": {},
   "outputs": [],
   "source": [
    "len(opcode_values_hex)"
   ]
  },
  {
   "cell_type": "code",
   "execution_count": null,
   "metadata": {},
   "outputs": [],
   "source": [
    "newFile = open(\"opcode_values\", \"wb\")\n",
    "# write to file\n",
    "for byte in opcode_values_hex:\n",
    "    newFile.write(byte.to_bytes(1, byteorder='big'))"
   ]
  },
  {
   "cell_type": "code",
   "execution_count": null,
   "metadata": {},
   "outputs": [],
   "source": [
    "text = text.split(\"\t\")"
   ]
  },
  {
   "cell_type": "code",
   "execution_count": null,
   "metadata": {},
   "outputs": [],
   "source": [
    "text = [x for x in text if len(x) == 2]"
   ]
  },
  {
   "cell_type": "code",
   "execution_count": null,
   "metadata": {},
   "outputs": [],
   "source": [
    "text"
   ]
  },
  {
   "cell_type": "code",
   "execution_count": null,
   "metadata": {},
   "outputs": [],
   "source": [
    "len(text)"
   ]
  },
  {
   "cell_type": "code",
   "execution_count": null,
   "metadata": {},
   "outputs": [],
   "source": [
    "newFile = open(\"opcode_values\", \"wb\")\n",
    "# write to file\n",
    "for byte in text:\n",
    "    newFile.write(byte.to_bytes(1, byteorder='big'))"
   ]
  },
  {
   "cell_type": "code",
   "execution_count": null,
   "metadata": {},
   "outputs": [],
   "source": [
    "newFileByteArray = bytearray(text)"
   ]
  },
  {
   "cell_type": "code",
   "execution_count": null,
   "metadata": {},
   "outputs": [],
   "source": [
    "f=open(\"./opcodes.img\",'wb')"
   ]
  },
  {
   "cell_type": "code",
   "execution_count": null,
   "metadata": {},
   "outputs": [],
   "source": [
    "f.write(newFileByteArray)"
   ]
  }
 ],
 "metadata": {
  "kernelspec": {
   "display_name": "Python 3",
   "language": "python",
   "name": "python3"
  },
  "language_info": {
   "codemirror_mode": {
    "name": "ipython",
    "version": 3
   },
   "file_extension": ".py",
   "mimetype": "text/x-python",
   "name": "python",
   "nbconvert_exporter": "python",
   "pygments_lexer": "ipython3",
   "version": "3.8.5"
  }
 },
 "nbformat": 4,
 "nbformat_minor": 4
}
